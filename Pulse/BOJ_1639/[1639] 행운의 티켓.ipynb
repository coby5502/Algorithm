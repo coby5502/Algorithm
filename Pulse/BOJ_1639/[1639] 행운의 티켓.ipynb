{
 "cells": [
  {
   "cell_type": "markdown",
   "id": "cac8b8b1",
   "metadata": {},
   "source": [
    "## 전체 코드"
   ]
  },
  {
   "cell_type": "code",
   "execution_count": 6,
   "id": "007724cc",
   "metadata": {},
   "outputs": [],
   "source": [
    "import java.util.Scanner;\n",
    "\n",
    "public class Main {\n",
    "\n",
    "    static int number[] = new int[100];\n",
    "\n",
    "    public static void main(String[] args) {\n",
    "        Scanner sc = new Scanner(System.in);\n",
    "\n",
    "        String ticket = sc.next();\n",
    "        int len = ticket.length();\n",
    "\n",
    "        int i;\n",
    "\n",
    "        for(i=0; i<len; i++) {\n",
    "            number[i] = Character.getNumericValue(ticket.charAt(i));\n",
    "        }\n",
    "\n",
    "        int maxLength = len%2==0 ? len : len-1;\n",
    "\n",
    "        while(true) {\n",
    "            boolean check = false;\n",
    "            for(i=0; i<=len-maxLength; i++) {\n",
    "                if(compare(i, maxLength/2)) {\n",
    "                    check = true;\n",
    "                    break;\n",
    "                }\n",
    "            }\n",
    "\n",
    "            if(check) break;\n",
    "            maxLength -= 2;\n",
    "            if(maxLength == 0) break;\n",
    "        }\n",
    "\n",
    "        System.out.println(maxLength);\n",
    "    }\n",
    "\n",
    "    private static boolean compare(int start, int len) {\n",
    "        int sumFirst = 0;\n",
    "        int sumSecond = 0;\n",
    "\n",
    "        for(int i=start; i<start+len; i++) {\n",
    "            sumFirst += number[i];\n",
    "            sumSecond += number[i+len];\n",
    "        }\n",
    "\n",
    "        if(sumFirst == sumSecond) return true;\n",
    "        return false;\n",
    "    }\n",
    "}"
   ]
  },
  {
   "cell_type": "markdown",
   "id": "b3c332d9",
   "metadata": {},
   "source": [
    "### maxLength"
   ]
  },
  {
   "cell_type": "code",
   "execution_count": null,
   "id": "e14cf66d",
   "metadata": {},
   "outputs": [],
   "source": [
    "int maxLength = len%2==0 ? len : len-1;"
   ]
  },
  {
   "cell_type": "markdown",
   "id": "49cacbf2",
   "metadata": {},
   "source": [
    "부분 문자열의 최대길이가 될 수 있는 전체 문자열의 길이를 초기값으로 두었습니다."
   ]
  },
  {
   "cell_type": "code",
   "execution_count": null,
   "id": "4abd53aa",
   "metadata": {},
   "outputs": [],
   "source": [
    "        while(true) {\n",
    "            boolean check = false;\n",
    "            for(i=0; i<=len-maxLength; i++) {\n",
    "                if(compare(i, maxLength/2)) {\n",
    "                    check = true;\n",
    "                    break;\n",
    "                }\n",
    "            }\n",
    "\n",
    "            if(check) break;\n",
    "            maxLength -= 2;\n",
    "            if(maxLength == 0) break;\n",
    "        }\n",
    "\n",
    "        System.out.println(maxLength);"
   ]
  },
  {
   "cell_type": "markdown",
   "id": "705b6dab",
   "metadata": {},
   "source": [
    "compare 함수에 비교를 시작하는 인덱스값과 길이를 보내서\n",
    "true 이면 maxLength 값을 출력하고,\n",
    "false 이면 maxLength를 2씩 감소시켜서 while문을 이어서 수행합니다."
   ]
  },
  {
   "cell_type": "markdown",
   "id": "c9761302",
   "metadata": {},
   "source": [
    "### compare 함수"
   ]
  },
  {
   "cell_type": "code",
   "execution_count": null,
   "id": "9601dabf",
   "metadata": {},
   "outputs": [],
   "source": [
    "    private static boolean compare(int start, int len) {\n",
    "        int sumFirst = 0;\n",
    "        int sumSecond = 0;\n",
    "\n",
    "        for(int i=start; i<start+len; i++) {\n",
    "            sumFirst += number[i];\n",
    "            sumSecond += number[i+len];\n",
    "        }\n",
    "\n",
    "        if(sumFirst == sumSecond) return true;\n",
    "        return false;\n",
    "    }"
   ]
  },
  {
   "cell_type": "markdown",
   "id": "78c6ab3d",
   "metadata": {},
   "source": [
    "start는 비교를 시작하는 인덱스값, len은 비교할 문자열의 길이 입니다.\n",
    "\n",
    "앞부분의 합을 sumFirst, 뒷부분의 합을 sumSecond로 선언하였습니다.\n",
    "sumFirst는 number[start] 부터 number[start+len],\n",
    "sumSecond는 number[start+len] 부터 number[start+len+len]을 더한 값이 됩니다.\n",
    "\n",
    "두 값이 같으면 true, 다르면 false를 리턴하는 함수입니다."
   ]
  },
  {
   "cell_type": "code",
   "execution_count": null,
   "id": "e93b78cf",
   "metadata": {},
   "outputs": [],
   "source": []
  }
 ],
 "metadata": {
  "kernelspec": {
   "display_name": "Java",
   "language": "java",
   "name": "java"
  },
  "language_info": {
   "codemirror_mode": "java",
   "file_extension": ".jshell",
   "mimetype": "text/x-java-source",
   "name": "Java",
   "pygments_lexer": "java",
   "version": "17+35-LTS-2724"
  }
 },
 "nbformat": 4,
 "nbformat_minor": 5
}
